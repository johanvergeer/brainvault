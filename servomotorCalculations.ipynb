{
 "cells": [
  {
   "metadata": {
    "ExecuteTime": {
     "end_time": "2025-08-17T17:14:33.634112Z",
     "start_time": "2025-08-17T17:14:32.728057Z"
    }
   },
   "cell_type": "code",
   "source": [
    "%use lib-ext(0.11.0-398)\n",
    "\n",
    "@file:DependsOn(\"com.brainvault:utils:0.5.0\")\n",
    "import com.brainvault.utils.units.*\n",
    "import com.brainvault.utils.mechanics.*"
   ],
   "outputs": [],
   "execution_count": 27
  },
  {
   "metadata": {},
   "cell_type": "markdown",
   "source": "# Base info"
  },
  {
   "metadata": {
    "ExecuteTime": {
     "end_time": "2025-08-17T17:14:33.689281Z",
     "start_time": "2025-08-17T17:14:33.640196Z"
    }
   },
   "cell_type": "code",
   "source": [
    "import kotlin.time.Duration\n",
    "\n",
    "val maxFeed = 1500.mmPerMinute\n",
    "\n",
    "val ballBearingSpindlePitch = 5.mm.length\n",
    "val beltRatio = GearRatio(.25)\n",
    "\n",
    "val linearAcceleration = 0.5.mps2\n",
    "val timeToGetUpToSpeed = (maxFeed.inMetersPerSec / linearAcceleration.inMetersPerSec2).seconds\n",
    "\n",
    "val omegaScrew = maxFeed.toAngularForScrew(ballBearingSpindlePitch)\n",
    "val omegaMotor = omegaScrew / beltRatio\n",
    "val alphaMotor = omegaMotor / timeToGetUpToSpeed\n",
    "\n",
    "val ramMass = 500.kg\n",
    "\n",
    "val ballscrewEfficiency = 0.95"
   ],
   "outputs": [],
   "execution_count": 28
  },
  {
   "metadata": {},
   "cell_type": "markdown",
   "source": "# Z-axis"
  },
  {
   "metadata": {
    "ExecuteTime": {
     "end_time": "2025-08-18T18:29:03.428884Z",
     "start_time": "2025-08-18T18:29:03.321252Z"
    }
   },
   "cell_type": "code",
   "source": [
    "DISPLAY(HTML(\"<h2>Inertia</h2>\"))\n",
    "\n",
    "// Inertia van de klemkoppeling tussen motor en verlengas\n",
    "// Opgemeten in SolidWorks\n",
    "//val couplingInertia = 286466.5.gMm2\n",
    "// https://www.maedler.nl/Article/61588022\n",
    "val couplingInertia = hollowCylinderInertia(.6.kg, 55.mm.diameter, 22.mm.diameter)\n",
    "// https://www.maedler.nl/Article/60156619\n",
    "val coupling2Inertia = hollowCylinderInertia(500.g, 66.mm.diameter, 22.mm.diameter)\n",
    "// https://www.maedler.nl/Article/60155619\n",
    "val coupling3Inertia = hollowCylinderInertia(270.g, 56.mm.diameter, 22.mm.diameter)\n",
    "// Inertia van de verlengas\n",
    "// Opgemeten in SolidWorks\n",
    "val axleInertia = 22770.75.gMm2\n",
    "// Inertia van de z=18 poelie\n",
    "// Opgemeten in SolidWorks\n",
    "val z18pulleyInertia = 58615.72.gMm2\n",
    "\n",
    "// Inertia van de z=72 poelie\n",
    "val z72pulleyInertia = hollowCylinderInertia(3238.g, 190.mm.diameter, 22.mm.diameter)\n",
    "// Inertia van de kogelomloopspindel\n",
    "val spindleInertia = cylinderInertia(6.kg, 40.mm.diameter)\n",
    "// Inertia van de ram\n",
    "// 500 kg is mijn eigen schatting\n",
    "val ramInertia = linearInertia(ramMass, ballBearingSpindlePitch)\n",
    "\n",
    "\n",
    "val totalInertia = totalInertia(\n",
    "    couplingInertia to 1.0.ratio,\n",
    "    axleInertia to 1.0.ratio,\n",
    "    z18pulleyInertia to 1.0.ratio,\n",
    "    z72pulleyInertia to beltRatio,\n",
    "    spindleInertia to beltRatio,\n",
    "    ramInertia to beltRatio\n",
    ")\n",
    "\n",
    "\"The total require inertia for the Z-axis is $totalInertia\"\n",
    "\n",
    "\"Coupling 1 inertia: ${couplingInertia}. Coupling 2 inertia: ${coupling2Inertia}. Coupling 3 inertia: ${coupling3Inertia}\"\n"
   ],
   "outputs": [
    {
     "data": {
      "text/html": [
       "<h2>Inertia</h2>"
      ]
     },
     "metadata": {},
     "output_type": "display_data"
    },
    {
     "data": {
      "text/plain": [
       "Coupling 1 inertia: 2,63175e-04 kg⋅m². Coupling 2 inertia: 3,02500e-04 kg⋅m². Coupling 3 inertia: 1,22175e-04 kg⋅m²"
      ]
     },
     "execution_count": 35,
     "metadata": {},
     "output_type": "execute_result"
    }
   ],
   "execution_count": 35
  },
  {
   "metadata": {
    "ExecuteTime": {
     "end_time": "2025-08-17T17:14:33.877622Z",
     "start_time": "2025-08-17T17:14:33.819554Z"
    }
   },
   "cell_type": "code",
   "source": [
    "DISPLAY(HTML(\"<h2>Torque</h2>\"))\n",
    "\n",
    "val requiredTorqueForInertia = totalInertia * alphaMotor\n",
    "DISPLAY(\"Required torque for inertia: $requiredTorqueForInertia\")\n",
    "\n",
    "val maxCuttingForce = 8.kN\n",
    "val requiredTorqueForMaxCuttingForce = maxCuttingForce.toTorqueForScrew(ballBearingSpindlePitch, ballscrewEfficiency)\n",
    "val requiredTorqueForMaxCuttingForceAtMotor = requiredTorqueForMaxCuttingForce * beltRatio\n",
    "\n",
    "DISPLAY(\"Required torque for max cutting force: $requiredTorqueForMaxCuttingForceAtMotor\")\n",
    "\n",
    "val totalTorque = requiredTorqueForInertia + requiredTorqueForMaxCuttingForceAtMotor\n",
    "\n",
    "DISPLAY(\"Total required torque: ${totalTorque}\")\n",
    "\n"
   ],
   "outputs": [
    {
     "data": {
      "text/html": [
       "<h2>Torque</h2>"
      ]
     },
     "metadata": {},
     "output_type": "display_data"
    },
    {
     "data": {
      "text/plain": [
       "Required torque for inertia: 3,48868 N·m"
      ]
     },
     "metadata": {},
     "output_type": "display_data"
    },
    {
     "data": {
      "text/plain": [
       "Required torque for max cutting force: 1,67532 N·m"
      ]
     },
     "metadata": {},
     "output_type": "display_data"
    },
    {
     "data": {
      "text/plain": [
       "Total required torque: 5,16400 N·m"
      ]
     },
     "metadata": {},
     "output_type": "display_data"
    }
   ],
   "execution_count": 30
  },
  {
   "metadata": {
    "ExecuteTime": {
     "end_time": "2025-08-17T17:14:33.938505Z",
     "start_time": "2025-08-17T17:14:33.888616Z"
    }
   },
   "cell_type": "code",
   "source": [
    "fun MARKDOWN(text: String): MimeTypedResult = MimeTypedResult(mapOf(\"text/markdown\" to text.trimIndent()))\n",
    "\n",
    "MARKDOWN(\"\"\"\n",
    "## Z-axis – Conclusion\n",
    "\n",
    "We computed the equivalent inertia and torque for the Z-axis (horizontal ram).\n",
    "SolidWorks was used for coupling, extension shaft, and z=18 pulley; the z=72 pulley, ballscrew and ram were hand-derived.\n",
    "\n",
    "### Assumptions\n",
    "- **Extreme case:** linear acceleration **${linearAcceleration}** and cutting force **${maxCuttingForce.toKnString()}**.\n",
    "- **Simplifications:** belt & small parts inertia, bearing friction ignored.\n",
    "- **z=72 pulley:** treated as homogeneous (actual part is steel + polymer).\n",
    "- **Gravity:** not included (horizontal axis / balanced).\n",
    "\n",
    "### Results\n",
    "- Total equivalent inertia @ motor: **≈ ${totalInertia}**\n",
    "- Torque for inertia (α from v→t): **≈ ${requiredTorqueForInertia}**\n",
    "- Torque for cutting force (8 kN, η=0.95, i=4): **≈ ${requiredTorqueForMaxCuttingForceAtMotor}**\n",
    "- **Total required torque (peak): ≈ ${totalTorque}**\n",
    "\n",
    "### Interpretation\n",
    "These figures reflect a *worst-case* setting for this machine size.\n",
    "In normal operation (lower accel and/or cutting force) the continuous torque will be well below this peak.\n",
    "\n",
    "A small 0.75 kW motor (e.g. SGM7J-08A) is under-dimensioned; a ~1.5 kW class (e.g. SGM7A-15A) is a closer fit, or lower accel / higher ratio reduces the requirement significantly.\n",
    "\"\"\")"
   ],
   "outputs": [
    {
     "data": {
      "text/markdown": "## Z-axis – Conclusion\n\nWe computed the equivalent inertia and torque for the Z-axis (horizontal ram).\nSolidWorks was used for coupling, extension shaft, and z=18 pulley; the z=72 pulley, ballscrew and ram were hand-derived.\n\n### Assumptions\n- **Extreme case:** linear acceleration **0.5 m/s²** and cutting force **8 kN**.\n- **Simplifications:** belt & small parts inertia, bearing friction ignored.\n- **z=72 pulley:** treated as homogeneous (actual part is steel + polymer).\n- **Gravity:** not included (horizontal axis / balanced).\n\n### Results\n- Total equivalent inertia @ motor: **≈ 1,38810e-03 kg⋅m²**\n- Torque for inertia (α from v→t): **≈ 3,48868 N·m**\n- Torque for cutting force (8 kN, η=0.95, i=4): **≈ 1,67532 N·m**\n- **Total required torque (peak): ≈ 5,16400 N·m**\n\n### Interpretation\nThese figures reflect a *worst-case* setting for this machine size.\nIn normal operation (lower accel and/or cutting force) the continuous torque will be well below this peak.\n\nA small 0.75 kW motor (e.g. SGM7J-08A) is under-dimensioned; a ~1.5 kW class (e.g. SGM7A-15A) is a closer fit, or lower accel / higher ratio reduces the requirement significantly."
     },
     "execution_count": 31,
     "metadata": {},
     "output_type": "execute_result"
    }
   ],
   "execution_count": 31
  }
 ],
 "metadata": {
  "kernelspec": {
   "display_name": "Kotlin",
   "language": "kotlin",
   "name": "kotlin"
  },
  "language_info": {
   "name": "kotlin",
   "version": "1.9.23",
   "mimetype": "text/x-kotlin",
   "file_extension": ".kt",
   "pygments_lexer": "kotlin",
   "codemirror_mode": "text/x-kotlin",
   "nbconvert_exporter": ""
  },
  "ktnbPluginMetadata": {
   "projectLibraries": true
  }
 },
 "nbformat": 4,
 "nbformat_minor": 0
}
